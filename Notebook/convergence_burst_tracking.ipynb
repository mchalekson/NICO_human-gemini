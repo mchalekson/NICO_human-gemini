{
 "cells": [
  {
   "cell_type": "markdown",
   "id": "2c9377d2",
   "metadata": {},
   "source": [
    "# Convergence Burst Semantic Embeddings"
   ]
  }
 ],
 "metadata": {
  "kernelspec": {
   "display_name": "conv-diver-env",
   "language": "python",
   "name": "python3"
  },
  "language_info": {
   "name": "python",
   "version": "3.10.18"
  }
 },
 "nbformat": 4,
 "nbformat_minor": 5
}
