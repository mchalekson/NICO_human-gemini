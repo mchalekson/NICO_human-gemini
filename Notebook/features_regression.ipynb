{
 "cells": [
  {
   "cell_type": "markdown",
   "id": "d1172952",
   "metadata": {},
   "source": [
    "# Predictive Team Outcomes - Regression Analyses"
   ]
  },
  {
   "cell_type": "markdown",
   "id": "7dfb3b18",
   "metadata": {},
   "source": [
    "Goal: See which features are most predictive of team outcomes (`num_teams`, `num_funded_teams`).\n",
    "\n",
    "These outcomes are the numbers of teams formed from these sessions and number of those teams whose proposals are actually funded."
   ]
  },
  {
   "cell_type": "markdown",
   "id": "c913592b",
   "metadata": {},
   "source": [
    "Background info: For more on how the features are calculated, code is in `calculate_features.py` (published to Evey's git)."
   ]
  },
  {
   "cell_type": "code",
   "execution_count": 2,
   "id": "3c616b92",
   "metadata": {},
   "outputs": [
    {
     "name": "stdout",
     "output_type": "stream",
     "text": [
      "(83, 45)\n"
     ]
    },
    {
     "data": {
      "text/html": [
       "<div>\n",
       "<style scoped>\n",
       "    .dataframe tbody tr th:only-of-type {\n",
       "        vertical-align: middle;\n",
       "    }\n",
       "\n",
       "    .dataframe tbody tr th {\n",
       "        vertical-align: top;\n",
       "    }\n",
       "\n",
       "    .dataframe thead th {\n",
       "        text-align: right;\n",
       "    }\n",
       "</style>\n",
       "<table border=\"1\" class=\"dataframe\">\n",
       "  <thead>\n",
       "    <tr style=\"text-align: right;\">\n",
       "      <th></th>\n",
       "      <th>conference</th>\n",
       "      <th>session</th>\n",
       "      <th>num_present_new_idea</th>\n",
       "      <th>num_provide_supporting_evidence</th>\n",
       "      <th>num_propose_decision</th>\n",
       "      <th>num_expand_on_existing_idea</th>\n",
       "      <th>num_express_agreement</th>\n",
       "      <th>num_explain_define_term</th>\n",
       "      <th>num_reject_idea</th>\n",
       "      <th>num_acknowledge_contribution</th>\n",
       "      <th>...</th>\n",
       "      <th>decision_lag</th>\n",
       "      <th>idea_agree_decision_chain_duration</th>\n",
       "      <th>burstiness_of_ideas</th>\n",
       "      <th>conflict_resolution_latency</th>\n",
       "      <th>screenshare_count</th>\n",
       "      <th>screenshare_duration</th>\n",
       "      <th>avg_screenshare_segment_length</th>\n",
       "      <th>screenshare_decision_overlap</th>\n",
       "      <th>num_teams</th>\n",
       "      <th>num_funded_teams</th>\n",
       "    </tr>\n",
       "  </thead>\n",
       "  <tbody>\n",
       "    <tr>\n",
       "      <th>0</th>\n",
       "      <td>2021ABI</td>\n",
       "      <td>2021_05_20_ABI_S5</td>\n",
       "      <td>12</td>\n",
       "      <td>23.0</td>\n",
       "      <td>9</td>\n",
       "      <td>42.0</td>\n",
       "      <td>28</td>\n",
       "      <td>25.0</td>\n",
       "      <td>3</td>\n",
       "      <td>23</td>\n",
       "      <td>...</td>\n",
       "      <td>291.090909</td>\n",
       "      <td>NaN</td>\n",
       "      <td>1.154701</td>\n",
       "      <td>NaN</td>\n",
       "      <td>1.0</td>\n",
       "      <td>258.0</td>\n",
       "      <td>258.000000</td>\n",
       "      <td>0.058824</td>\n",
       "      <td>3</td>\n",
       "      <td>0</td>\n",
       "    </tr>\n",
       "    <tr>\n",
       "      <th>1</th>\n",
       "      <td>2021ABI</td>\n",
       "      <td>2021_05_20_ABI_S4</td>\n",
       "      <td>12</td>\n",
       "      <td>6.0</td>\n",
       "      <td>5</td>\n",
       "      <td>17.0</td>\n",
       "      <td>17</td>\n",
       "      <td>30.0</td>\n",
       "      <td>0</td>\n",
       "      <td>23</td>\n",
       "      <td>...</td>\n",
       "      <td>835.583333</td>\n",
       "      <td>NaN</td>\n",
       "      <td>0.816497</td>\n",
       "      <td>NaN</td>\n",
       "      <td>7.0</td>\n",
       "      <td>278.0</td>\n",
       "      <td>39.714286</td>\n",
       "      <td>0.000000</td>\n",
       "      <td>2</td>\n",
       "      <td>2</td>\n",
       "    </tr>\n",
       "    <tr>\n",
       "      <th>2</th>\n",
       "      <td>2021ABI</td>\n",
       "      <td>2021_05_21_ABI_S16</td>\n",
       "      <td>11</td>\n",
       "      <td>10.0</td>\n",
       "      <td>8</td>\n",
       "      <td>23.0</td>\n",
       "      <td>17</td>\n",
       "      <td>18.0</td>\n",
       "      <td>0</td>\n",
       "      <td>30</td>\n",
       "      <td>...</td>\n",
       "      <td>247.500000</td>\n",
       "      <td>NaN</td>\n",
       "      <td>0.785674</td>\n",
       "      <td>NaN</td>\n",
       "      <td>2.0</td>\n",
       "      <td>777.0</td>\n",
       "      <td>388.500000</td>\n",
       "      <td>0.035714</td>\n",
       "      <td>0</td>\n",
       "      <td>0</td>\n",
       "    </tr>\n",
       "    <tr>\n",
       "      <th>3</th>\n",
       "      <td>2021ABI</td>\n",
       "      <td>2021_05_21_ABI_S1</td>\n",
       "      <td>17</td>\n",
       "      <td>8.0</td>\n",
       "      <td>14</td>\n",
       "      <td>37.0</td>\n",
       "      <td>32</td>\n",
       "      <td>24.0</td>\n",
       "      <td>0</td>\n",
       "      <td>18</td>\n",
       "      <td>...</td>\n",
       "      <td>220.647059</td>\n",
       "      <td>NaN</td>\n",
       "      <td>1.552417</td>\n",
       "      <td>NaN</td>\n",
       "      <td>7.0</td>\n",
       "      <td>252.0</td>\n",
       "      <td>36.000000</td>\n",
       "      <td>0.080000</td>\n",
       "      <td>2</td>\n",
       "      <td>2</td>\n",
       "    </tr>\n",
       "    <tr>\n",
       "      <th>4</th>\n",
       "      <td>2021ABI</td>\n",
       "      <td>2021_05_20_ABI_S8</td>\n",
       "      <td>8</td>\n",
       "      <td>22.0</td>\n",
       "      <td>8</td>\n",
       "      <td>43.0</td>\n",
       "      <td>45</td>\n",
       "      <td>24.0</td>\n",
       "      <td>1</td>\n",
       "      <td>44</td>\n",
       "      <td>...</td>\n",
       "      <td>376.000000</td>\n",
       "      <td>NaN</td>\n",
       "      <td>1.053269</td>\n",
       "      <td>NaN</td>\n",
       "      <td>8.0</td>\n",
       "      <td>257.0</td>\n",
       "      <td>32.125000</td>\n",
       "      <td>0.086957</td>\n",
       "      <td>4</td>\n",
       "      <td>0</td>\n",
       "    </tr>\n",
       "  </tbody>\n",
       "</table>\n",
       "<p>5 rows × 45 columns</p>\n",
       "</div>"
      ],
      "text/plain": [
       "  conference             session  num_present_new_idea  \\\n",
       "0    2021ABI   2021_05_20_ABI_S5                    12   \n",
       "1    2021ABI   2021_05_20_ABI_S4                    12   \n",
       "2    2021ABI  2021_05_21_ABI_S16                    11   \n",
       "3    2021ABI   2021_05_21_ABI_S1                    17   \n",
       "4    2021ABI   2021_05_20_ABI_S8                     8   \n",
       "\n",
       "   num_provide_supporting_evidence  num_propose_decision  \\\n",
       "0                             23.0                     9   \n",
       "1                              6.0                     5   \n",
       "2                             10.0                     8   \n",
       "3                              8.0                    14   \n",
       "4                             22.0                     8   \n",
       "\n",
       "   num_expand_on_existing_idea  num_express_agreement  \\\n",
       "0                         42.0                     28   \n",
       "1                         17.0                     17   \n",
       "2                         23.0                     17   \n",
       "3                         37.0                     32   \n",
       "4                         43.0                     45   \n",
       "\n",
       "   num_explain_define_term  num_reject_idea  num_acknowledge_contribution  \\\n",
       "0                     25.0                3                            23   \n",
       "1                     30.0                0                            23   \n",
       "2                     18.0                0                            30   \n",
       "3                     24.0                0                            18   \n",
       "4                     24.0                1                            44   \n",
       "\n",
       "   ...  decision_lag  idea_agree_decision_chain_duration  burstiness_of_ideas  \\\n",
       "0  ...    291.090909                                 NaN             1.154701   \n",
       "1  ...    835.583333                                 NaN             0.816497   \n",
       "2  ...    247.500000                                 NaN             0.785674   \n",
       "3  ...    220.647059                                 NaN             1.552417   \n",
       "4  ...    376.000000                                 NaN             1.053269   \n",
       "\n",
       "   conflict_resolution_latency  screenshare_count  screenshare_duration  \\\n",
       "0                          NaN                1.0                 258.0   \n",
       "1                          NaN                7.0                 278.0   \n",
       "2                          NaN                2.0                 777.0   \n",
       "3                          NaN                7.0                 252.0   \n",
       "4                          NaN                8.0                 257.0   \n",
       "\n",
       "   avg_screenshare_segment_length  screenshare_decision_overlap  num_teams  \\\n",
       "0                      258.000000                      0.058824          3   \n",
       "1                       39.714286                      0.000000          2   \n",
       "2                      388.500000                      0.035714          0   \n",
       "3                       36.000000                      0.080000          2   \n",
       "4                       32.125000                      0.086957          4   \n",
       "\n",
       "   num_funded_teams  \n",
       "0                 0  \n",
       "1                 2  \n",
       "2                 0  \n",
       "3                 2  \n",
       "4                 0  \n",
       "\n",
       "[5 rows x 45 columns]"
      ]
     },
     "execution_count": 2,
     "metadata": {},
     "output_type": "execute_result"
    }
   ],
   "source": [
    "import pandas as pd\n",
    "\n",
    "# Load the dataset from the correct relative path\n",
    "df = pd.read_excel(\"../Data/all_data_df.xlsx\")\n",
    "\n",
    "# Confirm it loaded\n",
    "print(df.shape)\n",
    "df.head()\n"
   ]
  },
  {
   "cell_type": "markdown",
   "id": "7a8409d5",
   "metadata": {},
   "source": [
    "# Importing  & Setup"
   ]
  },
  {
   "cell_type": "code",
   "execution_count": 4,
   "id": "e7065811",
   "metadata": {},
   "outputs": [],
   "source": [
    "import pandas as pd\n",
    "import numpy as np\n",
    "import statsmodels.api as sm\n",
    "import statsmodels.formula.api as smf\n",
    "import matplotlib.pyplot as plt\n",
    "import seaborn as sns\n",
    "from statsmodels.stats.outliers_influence import variance_inflation_factor\n",
    "from statsmodels.tools.tools import add_constant\n",
    "\n",
    "sns.set(style=\"whitegrid\")\n",
    "pd.set_option('display.max_columns', None)\n",
    "\n",
    "df = pd.read_excel(\"../Data/all_data_df.xlsx\")\n",
    "df = df.dropna(subset=[\"num_teams\", \"num_funded_teams\"])  # Clean target rows\n",
    "\n"
   ]
  },
  {
   "cell_type": "markdown",
   "id": "4b4fdcaa",
   "metadata": {},
   "source": [
    "# Setting Up Predictors & Targets"
   ]
  },
  {
   "cell_type": "code",
   "execution_count": 6,
   "id": "f3e64973",
   "metadata": {},
   "outputs": [],
   "source": [
    "excluded = [\"conference\", \"session\", \"num_teams\", \"num_funded_teams\"]\n",
    "predictors = [col for col in df.columns if col not in excluded]\n",
    "\n",
    "# Optional: binary version for logistic\n",
    "df[\"has_funded_team\"] = (df[\"num_funded_teams\"] > 0).astype(int)\n"
   ]
  },
  {
   "cell_type": "markdown",
   "id": "899bd1ab",
   "metadata": {},
   "source": [
    "# Checking for Overdispersion"
   ]
  },
  {
   "cell_type": "code",
   "execution_count": 7,
   "id": "d3dae6da",
   "metadata": {},
   "outputs": [
    {
     "name": "stdout",
     "output_type": "stream",
     "text": [
      "Mean: 0.59, Variance: 0.90\n"
     ]
    }
   ],
   "source": [
    "mean_funded = df[\"num_funded_teams\"].mean()\n",
    "var_funded = df[\"num_funded_teams\"].var()\n",
    "print(f\"Mean: {mean_funded:.2f}, Variance: {var_funded:.2f}\")\n",
    "\n",
    "# note: if variance >> mean, try negative binomial later"
   ]
  },
  {
   "cell_type": "markdown",
   "id": "7f3aa746",
   "metadata": {},
   "source": [
    "With variance slightly higher than mean, only a mild level of overdispersion - using Poisson Regression wouldn't undermine interpretability"
   ]
  },
  {
   "cell_type": "markdown",
   "id": "b7512173",
   "metadata": {},
   "source": [
    "# Poisson Regression - Number of Teams Formed\n",
    "\n",
    "We use Poisson regression because our outcomes are counts, and it models non-negative, skewed data better than linear regression, as long as the variance isn’t much larger than the mean."
   ]
  },
  {
   "cell_type": "markdown",
   "id": "5e480e7e",
   "metadata": {},
   "source": [
    "## Poisson Regression: num_teams"
   ]
  },
  {
   "cell_type": "code",
   "execution_count": 22,
   "id": "711ba795",
   "metadata": {},
   "outputs": [
    {
     "name": "stdout",
     "output_type": "stream",
     "text": [
      "Number of predictors: 40\n",
      "Predictors: ['num_present_new_idea', 'num_provide_supporting_evidence', 'num_propose_decision', 'num_expand_on_existing_idea', 'num_express_agreement', 'num_explain_define_term', 'num_reject_idea', 'num_acknowledge_contribution', 'num_express_enthusiasm', 'num_offer_constructive_criticism', 'num_assign_task', 'num_express_humor', 'num_confirm_decision', 'num_express_alternative_decision', 'num_resolve_conflict', 'elaboration_to_idea_ratio', 'decision_closure_ratio', 'criticism_to_agreement_ratio', 'net_positive_conflict_score', 'num_encourage_participation', 'leadership_action_count', 'num_express_frustration', 'engagement_positivity_score', 'avg_speaking_duration', 'speaking_variance', 'participation_entropy', 'avg_nods_per_utterance', 'avg_distraction_per_utterance', 'gesture_count_ratio', 'num_overlaps', 'ideas_first_half', 'ideas_second_half', 'decision_lag', 'idea_agree_decision_chain_duration', 'burstiness_of_ideas', 'conflict_resolution_latency', 'screenshare_count', 'screenshare_duration', 'avg_screenshare_segment_length', 'screenshare_decision_overlap']\n",
      "\n",
      "Removed problematic predictors: ['num_acknowledge_contribution', 'num_express_enthusiasm', 'num_express_humor', 'num_express_frustration', 'engagement_positivity_score']\n",
      "Refitting model with 35 predictors.\n",
      "                          Poisson Regression Results                          \n",
      "==============================================================================\n",
      "Dep. Variable:              num_teams   No. Observations:                   83\n",
      "Model:                        Poisson   Df Residuals:                       50\n",
      "Method:                           MLE   Df Model:                           32\n",
      "Date:                Tue, 15 Jul 2025   Pseudo R-squ.:                  0.2020\n",
      "Time:                        14:43:17   Log-Likelihood:                -107.54\n",
      "converged:                      False   LL-Null:                       -134.75\n",
      "Covariance Type:            nonrobust   LLR p-value:                  0.007974\n",
      "======================================================================================================\n",
      "                                         coef    std err          z      P>|z|      [0.025      0.975]\n",
      "------------------------------------------------------------------------------------------------------\n",
      "Intercept                             -1.2234      1.141     -1.072      0.284      -3.460       1.014\n",
      "num_present_new_idea                   0.0556   4.21e+05   1.32e-07      1.000   -8.25e+05    8.25e+05\n",
      "num_provide_supporting_evidence        0.0145      0.029      0.510      0.610      -0.041       0.070\n",
      "num_propose_decision                  -0.0284   1.64e+05  -1.73e-07      1.000   -3.21e+05    3.21e+05\n",
      "num_expand_on_existing_idea            0.0018      0.024      0.076      0.939      -0.045       0.049\n",
      "num_express_agreement                 -0.0025      0.016     -0.157      0.875      -0.034       0.029\n",
      "num_explain_define_term                0.0120      0.021      0.568      0.570      -0.029       0.053\n",
      "num_reject_idea                       -0.0593    2.6e+06  -2.28e-08      1.000    -5.1e+06     5.1e+06\n",
      "num_offer_constructive_criticism       0.0643      0.131      0.490      0.624      -0.193       0.322\n",
      "num_assign_task                       -0.0946   1.63e+05  -5.79e-07      1.000    -3.2e+05     3.2e+05\n",
      "num_confirm_decision                   0.1975   1.64e+05   1.21e-06      1.000   -3.21e+05    3.21e+05\n",
      "num_express_alternative_decision      -0.0735      0.136     -0.542      0.588      -0.340       0.193\n",
      "num_resolve_conflict                  -0.1145   2.59e+06  -4.41e-08      1.000   -5.09e+06    5.09e+06\n",
      "elaboration_to_idea_ratio              0.3539      0.315      1.125      0.261      -0.263       0.971\n",
      "decision_closure_ratio                -0.9435      0.594     -1.589      0.112      -2.107       0.220\n",
      "criticism_to_agreement_ratio           0.1782      1.222      0.146      0.884      -2.216       2.573\n",
      "net_positive_conflict_score           -0.0543   2.58e+06   -2.1e-08      1.000   -5.06e+06    5.06e+06\n",
      "num_encourage_participation           -0.0319   1.63e+05  -1.95e-07      1.000    -3.2e+05     3.2e+05\n",
      "leadership_action_count                0.0394   1.63e+05   2.42e-07      1.000   -3.19e+05    3.19e+05\n",
      "avg_speaking_duration                  0.0393      0.064      0.610      0.542      -0.087       0.166\n",
      "speaking_variance                      0.0341      0.034      0.997      0.319      -0.033       0.101\n",
      "participation_entropy                 -0.3269      0.268     -1.219      0.223      -0.853       0.199\n",
      "avg_nods_per_utterance                 2.2603      1.871      1.208      0.227      -1.407       5.928\n",
      "avg_distraction_per_utterance          7.4736      6.634      1.126      0.260      -5.530      20.477\n",
      "gesture_count_ratio                    0.0196      2.611      0.008      0.994      -5.098       5.137\n",
      "num_overlaps                           0.0307      0.025      1.248      0.212      -0.018       0.079\n",
      "ideas_first_half                       0.0325   4.21e+05   7.71e-08      1.000   -8.25e+05    8.25e+05\n",
      "ideas_second_half                      0.0246   4.21e+05   5.85e-08      1.000   -8.25e+05    8.25e+05\n",
      "decision_lag                           0.0004      0.000      1.101      0.271      -0.000       0.001\n",
      "idea_agree_decision_chain_duration    -0.0145      0.010     -1.422      0.155      -0.034       0.005\n",
      "burstiness_of_ideas                   -0.5025      0.436     -1.153      0.249      -1.357       0.351\n",
      "conflict_resolution_latency           -0.0006      0.001     -1.189      0.234      -0.002       0.000\n",
      "screenshare_count                      0.0012      0.027      0.044      0.965      -0.051       0.054\n",
      "screenshare_duration                9.809e-05      0.000      0.227      0.820      -0.001       0.001\n",
      "avg_screenshare_segment_length        -0.0014      0.001     -1.876      0.061      -0.003    6.34e-05\n",
      "screenshare_decision_overlap           0.2895      1.778      0.163      0.871      -3.195       3.774\n",
      "======================================================================================================\n"
     ]
    }
   ],
   "source": [
    "## Poisson Regression: num_teams\n",
    "\n",
    "import pandas as pd\n",
    "import numpy as np\n",
    "import statsmodels.formula.api as smf\n",
    "import warnings\n",
    "from statsmodels.tools.sm_exceptions import ConvergenceWarning\n",
    "\n",
    "# Step 1: Clean outcome rows\n",
    "df = df.dropna(subset=[\"num_teams\", \"num_funded_teams\"])\n",
    "\n",
    "# Step 2: Define candidate predictors\n",
    "excluded = [\"conference\", \"session\", \"num_teams\", \"num_funded_teams\", \"has_funded_team\"]\n",
    "candidate_predictors = [col for col in df.columns if col not in excluded]\n",
    "\n",
    "# Step 3: Filter predictors (numeric, not all-null, not constant)\n",
    "predictors = [\n",
    "    col for col in candidate_predictors\n",
    "    if pd.api.types.is_numeric_dtype(df[col])\n",
    "    and not df[col].isnull().all()\n",
    "    and df[col].nunique() > 1\n",
    "]\n",
    "\n",
    "# Step 4: Drop sparse predictors (< 5 non-zero entries)\n",
    "predictors = [col for col in predictors if (df[col].fillna(0) != 0).sum() >= 5]\n",
    "\n",
    "print(f\"Number of predictors: {len(predictors)}\")\n",
    "print(\"Predictors:\", predictors)\n",
    "\n",
    "# Step 5: Impute missing values\n",
    "df_model = df.copy()\n",
    "df_model[predictors] = df_model[predictors].fillna(0)\n",
    "\n",
    "# Step 6: Fit initial Poisson regression\n",
    "formula_teams = \"num_teams ~ \" + \" + \".join(predictors)\n",
    "warnings.simplefilter(\"ignore\", ConvergenceWarning)\n",
    "model_initial = smf.poisson(formula=formula_teams, data=df_model).fit(maxiter=100, disp=0)\n",
    "\n",
    "# Step 7: Identify bad predictors from model object directly\n",
    "params = model_initial.params\n",
    "std_errs = model_initial.bse\n",
    "bad_preds = [var for var in params.index if var != \"Intercept\" and (\n",
    "    pd.isna(std_errs[var]) or abs(params[var]) > 1e3\n",
    ")]\n",
    "\n",
    "print(\"\\nRemoved problematic predictors:\", bad_preds)\n",
    "\n",
    "# Step 8: Drop and refit if needed\n",
    "predictors_clean = [p for p in predictors if p in formula_teams and p not in bad_preds]\n",
    "print(f\"Refitting model with {len(predictors_clean)} predictors.\")\n",
    "\n",
    "final_formula = \"num_teams ~ \" + \" + \".join(predictors_clean)\n",
    "poisson_teams_final = smf.poisson(formula=final_formula, data=df_model).fit(maxiter=100, disp=0)\n",
    "\n",
    "# Step 9: Show final summary\n",
    "print(poisson_teams_final.summary())\n"
   ]
  },
  {
   "cell_type": "markdown",
   "id": "0965f2b9",
   "metadata": {},
   "source": [
    "## Testing for Multicollinearity"
   ]
  },
  {
   "cell_type": "code",
   "execution_count": 27,
   "id": "b4f69399",
   "metadata": {},
   "outputs": [
    {
     "name": "stdout",
     "output_type": "stream",
     "text": [
      "=== VIF Table ===\n",
      "                         predictor       VIF\n",
      "              num_present_new_idea       inf\n",
      "                   num_assign_task       inf\n",
      "                 ideas_second_half       inf\n",
      "                  ideas_first_half       inf\n",
      "       num_encourage_participation       inf\n",
      "       net_positive_conflict_score       inf\n",
      "              num_resolve_conflict       inf\n",
      "              num_confirm_decision       inf\n",
      "           leadership_action_count       inf\n",
      "                   num_reject_idea       inf\n",
      "              num_propose_decision       inf\n",
      "       num_expand_on_existing_idea 10.324364\n",
      "             avg_speaking_duration  8.212447\n",
      "             participation_entropy  7.768674\n",
      "         elaboration_to_idea_ratio  7.710821\n",
      "            decision_closure_ratio  7.140454\n",
      "      criticism_to_agreement_ratio  6.230158\n",
      "              screenshare_duration  5.563482\n",
      "                 speaking_variance  5.498932\n",
      "    avg_screenshare_segment_length  4.738336\n",
      "  num_offer_constructive_criticism  3.867916\n",
      "               gesture_count_ratio  3.673972\n",
      "   num_provide_supporting_evidence  3.610640\n",
      "             num_express_agreement  3.547558\n",
      "               burstiness_of_ideas  3.298123\n",
      "           num_explain_define_term  2.886454\n",
      "                      num_overlaps  2.693016\n",
      "       conflict_resolution_latency  2.682551\n",
      "            avg_nods_per_utterance  2.657656\n",
      "                      decision_lag  2.331523\n",
      "                 screenshare_count  2.129443\n",
      "     avg_distraction_per_utterance  1.558762\n",
      "idea_agree_decision_chain_duration  1.527918\n",
      "      screenshare_decision_overlap  1.520579\n",
      "  num_express_alternative_decision  1.477182\n",
      "\n",
      "Removed 12 predictors due to high VIF.\n",
      "Optimization terminated successfully.\n",
      "         Current function value: 1.367421\n",
      "         Iterations 11\n",
      "\n",
      "=== Final Poisson Model (after VIF filtering) ===\n",
      "                          Poisson Regression Results                          \n",
      "==============================================================================\n",
      "Dep. Variable:              num_teams   No. Observations:                   83\n",
      "Model:                        Poisson   Df Residuals:                       59\n",
      "Method:                           MLE   Df Model:                           23\n",
      "Date:                Tue, 15 Jul 2025   Pseudo R-squ.:                  0.1577\n",
      "Time:                        14:53:42   Log-Likelihood:                -113.50\n",
      "converged:                       True   LL-Null:                       -134.75\n",
      "Covariance Type:            nonrobust   LLR p-value:                  0.007916\n",
      "======================================================================================================\n",
      "                                         coef    std err          z      P>|z|      [0.025      0.975]\n",
      "------------------------------------------------------------------------------------------------------\n",
      "Intercept                             -2.4756      1.537     -1.611      0.107      -5.488       0.537\n",
      "avg_speaking_duration                  0.0378      0.059      0.638      0.523      -0.078       0.154\n",
      "participation_entropy                  0.0693      0.265      0.261      0.794      -0.451       0.589\n",
      "elaboration_to_idea_ratio              0.1184      0.113      1.052      0.293      -0.102       0.339\n",
      "decision_closure_ratio                -0.0192      0.305     -0.063      0.950      -0.616       0.578\n",
      "criticism_to_agreement_ratio          -1.1461      0.979     -1.171      0.242      -3.065       0.773\n",
      "screenshare_duration                9.534e-05      0.000      0.255      0.799      -0.001       0.001\n",
      "speaking_variance                      0.0317      0.033      0.973      0.331      -0.032       0.096\n",
      "avg_screenshare_segment_length        -0.0012      0.001     -1.830      0.067      -0.003    8.79e-05\n",
      "num_offer_constructive_criticism       0.2022      0.107      1.888      0.059      -0.008       0.412\n",
      "gesture_count_ratio                   -0.7703      2.566     -0.300      0.764      -5.799       4.258\n",
      "num_provide_supporting_evidence        0.0279      0.022      1.250      0.211      -0.016       0.072\n",
      "num_express_agreement                  0.0038      0.013      0.296      0.767      -0.022       0.029\n",
      "burstiness_of_ideas                   -0.1581      0.309     -0.512      0.609      -0.763       0.447\n",
      "num_explain_define_term                0.0128      0.020      0.656      0.512      -0.026       0.051\n",
      "num_overlaps                           0.0307      0.022      1.397      0.162      -0.012       0.074\n",
      "conflict_resolution_latency           -0.0006      0.000     -1.482      0.138      -0.001       0.000\n",
      "avg_nods_per_utterance                 2.5734      1.776      1.449      0.147      -0.907       6.053\n",
      "decision_lag                           0.0001      0.000      0.541      0.588      -0.000       0.001\n",
      "screenshare_count                      0.0117      0.023      0.503      0.615      -0.034       0.057\n",
      "avg_distraction_per_utterance          4.3521      5.506      0.790      0.429      -6.439      15.143\n",
      "idea_agree_decision_chain_duration    -0.0098      0.009     -1.122      0.262      -0.027       0.007\n",
      "screenshare_decision_overlap           0.5989      1.641      0.365      0.715      -2.617       3.815\n",
      "num_express_alternative_decision      -0.1257      0.124     -1.018      0.309      -0.368       0.116\n",
      "======================================================================================================\n"
     ]
    },
    {
     "name": "stderr",
     "output_type": "stream",
     "text": [
      "/Users/maxchalekson/Projects/NICO-Research/NICO_human-gemini/human-gemini-env/lib/python3.13/site-packages/statsmodels/stats/outliers_influence.py:197: RuntimeWarning: divide by zero encountered in scalar divide\n",
      "  vif = 1. / (1. - r_squared_i)\n"
     ]
    }
   ],
   "source": [
    "from statsmodels.stats.outliers_influence import variance_inflation_factor\n",
    "from statsmodels.tools.tools import add_constant\n",
    "import statsmodels.formula.api as smf\n",
    "import pandas as pd\n",
    "\n",
    "# Step 1: Add constant for intercept\n",
    "X_vif = add_constant(df_model[predictors_clean])\n",
    "\n",
    "# Step 2: Compute VIF\n",
    "vif_data = pd.DataFrame({\n",
    "    \"predictor\": X_vif.columns,\n",
    "    \"VIF\": [variance_inflation_factor(X_vif.values, i) for i in range(X_vif.shape[1])]\n",
    "})\n",
    "\n",
    "# Step 3: Drop intercept and sort\n",
    "vif_data = vif_data[vif_data[\"predictor\"] != \"const\"].sort_values(by=\"VIF\", ascending=False)\n",
    "print(\"=== VIF Table ===\")\n",
    "print(vif_data.to_string(index=False))\n",
    "\n",
    "# Step 4: Drop predictors with VIF = inf (or VIF > 10 if you want to be stricter)\n",
    "vif_filtered = vif_data[vif_data[\"VIF\"] < 10]\n",
    "predictors_vif = vif_filtered[\"predictor\"].tolist()\n",
    "\n",
    "print(f\"\\nRemoved {len(predictors_clean) - len(predictors_vif)} predictors due to high VIF.\")\n",
    "\n",
    "# Step 5: Refit Poisson model\n",
    "formula_vif = \"num_teams ~ \" + \" + \".join(predictors_vif)\n",
    "poisson_vif_model = smf.poisson(formula=formula_vif, data=df_model).fit()\n",
    "print(\"\\n=== Final Poisson Model (after VIF filtering) ===\")\n",
    "print(poisson_vif_model.summary())\n"
   ]
  },
  {
   "cell_type": "markdown",
   "id": "6c2b59b5",
   "metadata": {},
   "source": [
    "## Poisson Regression: num_funded_teams"
   ]
  },
  {
   "cell_type": "code",
   "execution_count": 49,
   "id": "3aaf10af",
   "metadata": {},
   "outputs": [
    {
     "name": "stdout",
     "output_type": "stream",
     "text": [
      "\n",
      "✅ No unstable predictors. Model is finalized.\n"
     ]
    },
    {
     "name": "stderr",
     "output_type": "stream",
     "text": [
      "/Users/maxchalekson/Projects/NICO-Research/NICO_human-gemini/human-gemini-env/lib/python3.13/site-packages/statsmodels/stats/outliers_influence.py:197: RuntimeWarning: divide by zero encountered in scalar divide\n",
      "  vif = 1. / (1. - r_squared_i)\n"
     ]
    }
   ],
   "source": [
    "from statsmodels.stats.outliers_influence import variance_inflation_factor\n",
    "from statsmodels.tools.tools import add_constant\n",
    "import statsmodels.api as sm\n",
    "import pandas as pd\n",
    "\n",
    "## Poisson Regression: num_funded_teams\n",
    "\n",
    "# Step 1: Drop rows missing the outcome\n",
    "df_teams = df.dropna(subset=[\"num_teams\"]).copy()\n",
    "\n",
    "# Step 2: Define candidate predictors\n",
    "excluded_cols_teams = [\"conference\", \"session\", \"num_teams\", \"num_funded_teams\", \"has_funded_team\"]\n",
    "candidate_predictors_teams = [col for col in df_teams.columns if col not in excluded_cols_teams]\n",
    "\n",
    "# Step 3: Keep numeric, non-constant, non-null predictors\n",
    "predictors_teams = [\n",
    "    col for col in candidate_predictors_teams\n",
    "    if pd.api.types.is_numeric_dtype(df_teams[col])\n",
    "    and not df_teams[col].isnull().all()\n",
    "    and df_teams[col].nunique() > 1\n",
    "]\n",
    "\n",
    "# Step 4: Remove sparse predictors (<5 non-zero entries)\n",
    "predictors_teams = [col for col in predictors_teams if (df_teams[col].fillna(0) != 0).sum() >= 5]\n",
    "\n",
    "# Step 5: Impute missing values with 0\n",
    "df_model_teams = df_teams.copy()\n",
    "df_model_teams[predictors_teams] = df_model_teams[predictors_teams].fillna(0)\n",
    "\n",
    "# Step 6: Fit initial Poisson model\n",
    "X_teams = add_constant(df_model_teams[predictors_teams])\n",
    "y_teams = df_model_teams[\"num_teams\"]\n",
    "glm_poisson_teams = sm.GLM(y_teams, X_teams, family=sm.families.Poisson()).fit()\n",
    "\n",
    "# Step 7: Remove unstable predictors\n",
    "summary_teams = glm_poisson_teams.summary2().tables[1].apply(pd.to_numeric, errors=\"coerce\")\n",
    "unstable_teams = summary_teams[\n",
    "    summary_teams[\"Std.Err.\"].isna() | (summary_teams[\"Coef.\"].abs() > 1e3)\n",
    "].index.tolist()\n",
    "unstable_teams = [p for p in unstable_teams if p != \"const\"]\n",
    "predictors_clean_teams = [p for p in predictors_teams if p not in unstable_teams]\n",
    "\n",
    "# Step 8: VIF check\n",
    "X_vif_teams = add_constant(df_model_teams[predictors_clean_teams])\n",
    "vif_data_teams = pd.DataFrame({\n",
    "    \"predictor\": X_vif_teams.columns,\n",
    "    \"VIF\": [variance_inflation_factor(X_vif_teams.values, i) for i in range(X_vif_teams.shape[1])]\n",
    "})\n",
    "vif_data_teams = vif_data_teams[vif_data_teams[\"predictor\"] != \"const\"].sort_values(by=\"VIF\", ascending=False)\n",
    "\n",
    "# Step 9: Drop high VIF\n",
    "high_vif_teams = vif_data_teams[vif_data_teams[\"VIF\"] > 5][\"predictor\"].tolist()\n",
    "predictors_final_num_teams = [p for p in predictors_clean_teams if p not in high_vif_teams]\n",
    "\n",
    "# Step 10: Final Poisson model\n",
    "X_teams_final = add_constant(df_model_teams[predictors_final_num_teams])\n",
    "glm_final_num_teams = sm.GLM(y_teams, X_teams_final, family=sm.families.Poisson()).fit()\n",
    "\n",
    "\n",
    "# Step 11: Final check for instability\n",
    "summary_final = glm_final.summary2().tables[1].apply(pd.to_numeric, errors=\"coerce\")\n",
    "unstable_final = summary_final[\n",
    "    summary_final[\"Std.Err.\"].isna() | (summary_final[\"Coef.\"].abs() > 1e3)\n",
    "].index.tolist()\n",
    "unstable_final = [p for p in unstable_final if p != \"const\"]\n",
    "\n",
    "if unstable_final:\n",
    "    print(f\"\\n⚠️ Removing final unstable predictors: {unstable_final}\")\n",
    "    predictors_final_clean = [p for p in predictors_final if p not in unstable_final]\n",
    "    X_clean = add_constant(df_model_funded[predictors_final_clean])\n",
    "    glm_final_clean = sm.GLM(y, X_clean, family=sm.families.Poisson()).fit()\n",
    "    print(\"\\n=== Final Poisson Model (cleaned) ===\")\n",
    "    print(glm_final_clean.summary())\n",
    "else:\n",
    "    print(\"\\n✅ No unstable predictors. Model is finalized.\")\n"
   ]
  },
  {
   "cell_type": "markdown",
   "id": "e790d8ff",
   "metadata": {},
   "source": [
    "## Model Summary "
   ]
  },
  {
   "cell_type": "code",
   "execution_count": 50,
   "id": "1b56a274",
   "metadata": {},
   "outputs": [],
   "source": [
    "summary_df = glm_final.summary2().tables[1]\n",
    "summary_df.to_csv(\"poisson_model_summary.csv\")"
   ]
  },
  {
   "cell_type": "markdown",
   "id": "7f44b6a4",
   "metadata": {},
   "source": [
    "## Predicted vs. Actual Plot"
   ]
  },
  {
   "cell_type": "code",
   "execution_count": 51,
   "id": "eac45353",
   "metadata": {},
   "outputs": [
    {
     "data": {
      "image/png": "[encoded data removed]",
      "text/plain": [
       "<Figure size 640x480 with 1 Axes>"
      ]
     },
     "metadata": {},
     "output_type": "display_data"
    }
   ],
   "source": [
    "import matplotlib.pyplot as plt\n",
    "df_model_funded[\"predicted\"] = glm_final.predict()\n",
    "plt.scatter(df_model_funded[\"num_funded_teams\"], df_model_funded[\"predicted\"], alpha=0.7)\n",
    "plt.xlabel(\"Actual Funded Teams\")\n",
    "plt.ylabel(\"Predicted Funded Teams\")\n",
    "plt.title(\"Poisson Model: Actual vs Predicted\")\n",
    "plt.plot([0, df_model_funded[\"num_funded_teams\"].max()],\n",
    "         [0, df_model_funded[\"num_funded_teams\"].max()], 'r--')\n",
    "plt.show()\n"
   ]
  },
  {
   "cell_type": "markdown",
   "id": "b8b668aa",
   "metadata": {},
   "source": [
    "## Compute MAE/RMSE/correlation"
   ]
  },
  {
   "cell_type": "code",
   "execution_count": 54,
   "id": "e5d44f3a",
   "metadata": {},
   "outputs": [
    {
     "name": "stdout",
     "output_type": "stream",
     "text": [
      "=== Model Performance Metrics ===\n",
      "Mean Absolute Error (MAE): 0.592\n",
      "Root Mean Squared Error (RMSE): 0.791\n",
      "Pearson Correlation: 0.555\n"
     ]
    }
   ],
   "source": [
    "from sklearn.metrics import mean_absolute_error, mean_squared_error\n",
    "import numpy as np\n",
    "\n",
    "# Predicted values from the final GLM\n",
    "y_pred = glm_final.predict(X_final)\n",
    "\n",
    "# Performance metrics\n",
    "mae = mean_absolute_error(y, y_pred)\n",
    "rmse = np.sqrt(mean_squared_error(y, y_pred))  # manual square root\n",
    "correlation = np.corrcoef(y, y_pred)[0, 1]\n",
    "\n",
    "print(\"=== Model Performance Metrics ===\")\n",
    "print(f\"Mean Absolute Error (MAE): {mae:.3f}\")\n",
    "print(f\"Root Mean Squared Error (RMSE): {rmse:.3f}\")\n",
    "print(f\"Pearson Correlation: {correlation:.3f}\")\n"
   ]
  },
  {
   "cell_type": "markdown",
   "id": "000c2e08",
   "metadata": {},
   "source": [
    "## Export Actual vs Predicted to CSV"
   ]
  },
  {
   "cell_type": "code",
   "execution_count": 55,
   "id": "5deac85e",
   "metadata": {},
   "outputs": [
    {
     "name": "stdout",
     "output_type": "stream",
     "text": [
      "Saved: poisson_predicted_vs_actual.csv\n"
     ]
    }
   ],
   "source": [
    "df_predicted = pd.DataFrame({\n",
    "    \"session\": df_model_funded[\"session\"],\n",
    "    \"actual_funded_teams\": y,\n",
    "    \"predicted_funded_teams\": y_pred\n",
    "})\n",
    "df_predicted.to_csv(\"poisson_predicted_vs_actual.csv\", index=False)\n",
    "print(\"Saved: poisson_predicted_vs_actual.csv\")\n"
   ]
  },
  {
   "cell_type": "markdown",
   "id": "6d69b242",
   "metadata": {},
   "source": [
    "## Posterior Predictive Check (Poisson)"
   ]
  },
  {
   "cell_type": "code",
   "execution_count": 56,
   "id": "b36bfa35",
   "metadata": {},
   "outputs": [
    {
     "data": {
      "image/png": "[encoded data removed]",
      "text/plain": [
       "<Figure size 800x600 with 1 Axes>"
      ]
     },
     "metadata": {},
     "output_type": "display_data"
    }
   ],
   "source": [
    "import matplotlib.pyplot as plt\n",
    "import seaborn as sns\n",
    "\n",
    "# Simulate 1000 draws for each predicted lambda\n",
    "ppc_samples = np.random.poisson(lam=y_pred, size=(1000, len(y_pred)))\n",
    "\n",
    "# Plot: mean + 95% CI vs actual\n",
    "ppc_mean = ppc_samples.mean(axis=0)\n",
    "ppc_lower = np.percentile(ppc_samples, 2.5, axis=0)\n",
    "ppc_upper = np.percentile(ppc_samples, 97.5, axis=0)\n",
    "\n",
    "plt.figure(figsize=(8, 6))\n",
    "plt.errorbar(\n",
    "    y, ppc_mean, \n",
    "    yerr=[ppc_mean - ppc_lower, ppc_upper - ppc_mean],\n",
    "    fmt='o', ecolor='gray', alpha=0.6, label='95% Predictive CI'\n",
    ")\n",
    "plt.plot([0, max(y)], [0, max(y)], 'r--', label='Ideal Fit')\n",
    "plt.xlabel(\"Actual Funded Teams\")\n",
    "plt.ylabel(\"Predicted (Posterior Mean)\")\n",
    "plt.title(\"Posterior Predictive Check: Poisson Model\")\n",
    "plt.legend()\n",
    "plt.grid(True)\n",
    "plt.tight_layout()\n",
    "plt.show()"
   ]
  },
  {
   "cell_type": "markdown",
   "id": "01d4d185",
   "metadata": {},
   "source": [
    "# Ranked Summary Table for num_funded_teams"
   ]
  },
  {
   "cell_type": "code",
   "execution_count": 57,
   "id": "6e217564",
   "metadata": {},
   "outputs": [
    {
     "name": "stdout",
     "output_type": "stream",
     "text": [
      "\n",
      "=== Top Predictive Features for num_funded_teams ===\n",
      "                                        Coef.   Std.Err.         z     P>|z|\n",
      "gesture_count_ratio                  5.734874   2.817997  2.035089  0.041842\n",
      "idea_agree_decision_chain_duration  -0.333718   0.167431 -1.993165  0.046243\n",
      "conflict_resolution_latency         -0.000704   0.000568 -1.238169  0.215654\n",
      "num_overlaps                         0.038064   0.031806  1.196755  0.231402\n",
      "num_provide_supporting_evidence     -0.035923   0.033477 -1.073053  0.283247\n",
      "decision_lag                         0.000406   0.000384  1.057374  0.290341\n",
      "num_explain_define_term              0.022377   0.024611  0.909251  0.363217\n",
      "avg_distraction_per_utterance      -22.414651  25.819307 -0.868135  0.385320\n",
      "burstiness_of_ideas                 -0.394467   0.459398 -0.858659  0.390528\n",
      "num_offer_constructive_criticism     0.100590   0.118713  0.847333  0.396809\n"
     ]
    }
   ],
   "source": [
    "# Summary table: most predictive features for funded teams\n",
    "summary_df = glm_final.summary2().tables[1].copy()\n",
    "summary_df[\"abs_z\"] = summary_df[\"z\"].abs()\n",
    "top_predictors_funded = summary_df.drop(\"const\").sort_values(\"abs_z\", ascending=False)[\n",
    "    [\"Coef.\", \"Std.Err.\", \"z\", \"P>|z|\"]\n",
    "].head(10)\n",
    "\n",
    "top_predictors_funded.to_csv(\"top_predictors_funded.csv\")\n",
    "print(\"\\n=== Top Predictive Features for num_funded_teams ===\")\n",
    "print(top_predictors_funded)\n"
   ]
  },
  {
   "cell_type": "markdown",
   "id": "a21c67bb",
   "metadata": {},
   "source": [
    "# Ranked Summary Table for num_teams"
   ]
  },
  {
   "cell_type": "code",
   "execution_count": 58,
   "id": "603364e7",
   "metadata": {},
   "outputs": [
    {
     "name": "stdout",
     "output_type": "stream",
     "text": [
      "\n",
      "=== Top Predictive Features for num_teams ===\n",
      "                                       Coef.  Std.Err.         z     P>|z|\n",
      "num_overlaps                        0.033336  0.020493  1.626697  0.103801\n",
      "conflict_resolution_latency        -0.000603  0.000376 -1.604335  0.108640\n",
      "num_offer_constructive_criticism    0.101510  0.072166  1.406629  0.159538\n",
      "idea_agree_decision_chain_duration -0.011087  0.008273 -1.340198  0.180181\n",
      "avg_nods_per_utterance              1.772161  1.479906  1.197482  0.231119\n",
      "gesture_count_ratio                 1.992548  1.664014  1.197435  0.231137\n",
      "decision_lag                        0.000254  0.000224  1.132117  0.257585\n",
      "num_provide_supporting_evidence     0.021695  0.019430  1.116566  0.264180\n",
      "avg_distraction_per_utterance       5.112881  4.893689  1.044791  0.296120\n",
      "screenshare_count                   0.015034  0.016541  0.908889  0.363409\n"
     ]
    }
   ],
   "source": [
    "# Refit the final Poisson model for num_teams\n",
    "from statsmodels.tools.tools import add_constant\n",
    "\n",
    "y_teams = df_model_teams[\"num_teams\"]\n",
    "X_teams_final = add_constant(df_model_teams[predictors_final_num_teams])\n",
    "glm_final_num_teams = sm.GLM(y_teams, X_teams_final, family=sm.families.Poisson()).fit()\n",
    "\n",
    "# Summary table: most predictive features for total teams\n",
    "summary_df_teams = glm_final_num_teams.summary2().tables[1].copy()\n",
    "summary_df_teams[\"abs_z\"] = summary_df_teams[\"z\"].abs()\n",
    "\n",
    "top_predictors_teams = summary_df_teams.drop(\"const\").sort_values(\"abs_z\", ascending=False)[\n",
    "    [\"Coef.\", \"Std.Err.\", \"z\", \"P>|z|\"]\n",
    "].head(10)\n",
    "\n",
    "top_predictors_teams.to_csv(\"top_predictors_teams.csv\")\n",
    "\n",
    "print(\"\\n=== Top Predictive Features for num_teams ===\")\n",
    "print(top_predictors_teams)\n",
    "\n"
   ]
  },
  {
   "cell_type": "markdown",
   "id": "06f89b93",
   "metadata": {},
   "source": [
    "## Interpretation Highlights\n",
    "\n",
    "- `gesture_count_ratio` is the strongest **positive predictor** of both `num_teams` and `num_funded_teams`, suggesting that more gesturing is associated with more teams being formed and funded.\n",
    "- `idea_agree_decision_chain_duration` is a consistent **negative predictor** across both outcomes — faster agreement and decision-making may support better team outcomes.\n",
    "- `conflict_resolution_latency` also shows a **negative trend** in both models, though it's not statistically significant. This may hint that faster conflict resolution is beneficial."
   ]
  }
 ],
 "metadata": {
  "kernelspec": {
   "display_name": "human-gemini-env",
   "language": "python",
   "name": "python3"
  },
  "language_info": {
   "codemirror_mode": {
    "name": "ipython",
    "version": 3
   },
   "file_extension": ".py",
   "mimetype": "text/x-python",
   "name": "python",
   "nbconvert_exporter": "python",
   "pygments_lexer": "ipython3",
   "version": "3.13.5"
  }
 },
 "nbformat": 4,
 "nbformat_minor": 5
}
