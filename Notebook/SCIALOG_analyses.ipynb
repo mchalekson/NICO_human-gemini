{
 "cells": [
  {
   "cell_type": "markdown",
   "id": "f9639547",
   "metadata": {},
   "source": [
    "# SCIALOG Statistical Analyses\n",
    "\n",
    "Steps 1 - 3"
   ]
  },
  {
   "cell_type": "code",
   "execution_count": null,
   "id": "a2a5e368",
   "metadata": {},
   "outputs": [
    {
     "ename": "",
     "evalue": "",
     "output_type": "error",
     "traceback": [
      "\u001b[1;31mRunning cells with 'Python 3.13.5' requires the ipykernel package.\n",
      "\u001b[1;31mInstall 'ipykernel' into the Python environment. \n",
      "\u001b[1;31mCommand: '/opt/homebrew/bin/python3 -m pip install ipykernel -U --user --force-reinstall'"
     ]
    }
   ],
   "source": [
    "# Run this in a Jupyter notebook cell\n",
    "\n",
    "import pandas as pd\n",
    "from sklearn.metrics import cohen_kappa_score\n",
    "import matplotlib.pyplot as plt\n",
    "import seaborn as sns\n",
    "\n",
    "def process_flat_sheet(filepath, coder_name):\n",
    "    xls = pd.read_excel(filepath, sheet_name=None)\n",
    "    all_dfs = []\n",
    "    for sheet_name, df in xls.items():\n",
    "        df.columns = [str(c).strip().lower() for c in df.columns]\n",
    "        if not {'video', 'timestamp', 'speaker'}.issubset(df.columns):\n",
    "            continue\n",
    "        for i in range(4):\n",
    "            annot_idx = 3 + i * 2\n",
    "            if annot_idx >= len(df.columns):\n",
    "                continue\n",
    "            code_col = df.columns[annot_idx]\n",
    "            temp = df[['video', 'timestamp', 'speaker', code_col]].copy()\n",
    "            temp.columns = ['video', 'timestamp', 'speaker', 'annotation']\n",
    "            temp['coder'] = coder_name\n",
    "            temp['sheet'] = sheet_name\n",
    "            all_dfs.append(temp.dropna(subset=['annotation']))\n",
    "    return pd.concat(all_dfs, ignore_index=True)\n",
    "\n",
    "# Load your files\n",
    "df_max = process_flat_sheet(\"data/sampled video verification (Max).xlsx\", \"max\")\n",
    "df_evey = process_flat_sheet(\"data/sampled video verification (Evey).xlsx\", \"evey\")\n",
    "\n",
    "# Merge and compare\n",
    "df_compare = df_max.merge(df_evey, on=[\"video\", \"timestamp\"], suffixes=('_max', '_evey'))\n",
    "kappa = cohen_kappa_score(df_compare['annotation_max'], df_compare['annotation_evey'])\n",
    "\n",
    "print(f\"Cohen's Kappa (overall): {kappa:.3f}\")\n",
    "\n",
    "# Frequency plots\n",
    "sns.countplot(data=df_max, y='annotation')\n",
    "plt.title(\"Max's Annotation Frequency\")\n",
    "plt.show()\n"
   ]
  }
 ],
 "metadata": {
  "kernelspec": {
   "display_name": "Python 3",
   "language": "python",
   "name": "python3"
  },
  "language_info": {
   "name": "python",
   "version": "3.13.5"
  }
 },
 "nbformat": 4,
 "nbformat_minor": 5
}
