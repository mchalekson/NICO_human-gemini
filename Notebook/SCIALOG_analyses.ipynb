{
 "cells": [
  {
   "cell_type": "markdown",
   "id": "f9639547",
   "metadata": {},
   "source": [
    "# SCIALOG Statistical Analyses\n",
    "\n",
    "Steps 1 - 3"
   ]
  },
  {
   "cell_type": "code",
   "execution_count": null,
   "id": "a2a5e368",
   "metadata": {
    "vscode": {
     "languageId": "plaintext"
    }
   },
   "outputs": [],
   "source": [
    "import pandas as pd\n",
    "\n",
    "def process_flat_sheet(filepath, coder_name):\n",
    "    # Load all sheets in the Excel file\n",
    "    xls = pd.read_excel(filepath, sheet_name=None)\n",
    "    all_dfs = []\n",
    "\n",
    "    for sheet_name, df in xls.items():\n",
    "        df.columns = [str(c).strip().lower() for c in df.columns]\n",
    "\n",
    "        if not {'video', 'timestamp', 'speaker'}.issubset(df.columns):\n",
    "            continue\n",
    "\n",
    "        for i in range(4):  # 4 annotation pairs\n",
    "            annot_col = df.columns[3 + i*2]   # D, F, H, J\n",
    "            if annot_col not in df.columns:\n",
    "                continue\n",
    "\n",
    "            temp = df[['video', 'timestamp', 'speaker', annot_col]].copy()\n",
    "            temp.columns = ['video', 'timestamp', 'speaker', 'annotation']\n",
    "            temp['coder'] = coder_name\n",
    "            temp['sheet'] = sheet_name\n",
    "            all_dfs.append(temp.dropna(subset=['annotation']))\n",
    "\n",
    "    return pd.concat(all_dfs, ignore_index=True)\n",
    "\n",
    "# Process both files\n",
    "df_max = process_flat_sheet(\"data/sampled video verification (Max).xlsx\", coder_name=\"max\")\n",
    "df_evey = process_flat_sheet(\"data/sampled video verification (Evey).xlsx\", coder_name=\"evey\")\n"
   ]
  }
 ],
 "metadata": {
  "language_info": {
   "name": "python"
  }
 },
 "nbformat": 4,
 "nbformat_minor": 5
}
